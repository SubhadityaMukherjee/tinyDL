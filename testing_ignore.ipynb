{
 "cells": [
  {
   "cell_type": "code",
   "execution_count": 1,
   "id": "handled-volunteer",
   "metadata": {
    "execution": {
     "iopub.execute_input": "2021-04-27T11:22:18.999155Z",
     "iopub.status.busy": "2021-04-27T11:22:18.998512Z",
     "iopub.status.idle": "2021-04-27T11:22:19.901581Z",
     "shell.execute_reply": "2021-04-27T11:22:19.901134Z",
     "shell.execute_reply.started": "2021-04-27T11:22:18.998971Z"
    }
   },
   "outputs": [],
   "source": [
    "import time\n",
    "from tinydl.layers import *\n",
    "from tinydl.model import Model\n",
    "from tinydl.data import *\n",
    "from tinydl.trainer import *\n",
    "from tinydl.augmentation import *\n",
    "\n",
    "# temp\n",
    "import tinydl as dp\n",
    "import numpy as np"
   ]
  },
  {
   "cell_type": "code",
   "execution_count": 11,
   "id": "affected-profit",
   "metadata": {
    "execution": {
     "iopub.execute_input": "2021-04-27T11:31:29.303889Z",
     "iopub.status.busy": "2021-04-27T11:31:29.303399Z",
     "iopub.status.idle": "2021-04-27T11:31:29.314465Z",
     "shell.execute_reply": "2021-04-27T11:31:29.312649Z",
     "shell.execute_reply.started": "2021-04-27T11:31:29.303833Z"
    }
   },
   "outputs": [
    {
     "data": {
      "text/plain": [
       "(46, 63, 3)"
      ]
     },
     "execution_count": 11,
     "metadata": {},
     "output_type": "execute_result"
    }
   ],
   "source": [
    "p = np.random.rand(46, 63, 3); p.shape"
   ]
  },
  {
   "cell_type": "code",
   "execution_count": 12,
   "id": "friendly-reynolds",
   "metadata": {
    "execution": {
     "iopub.execute_input": "2021-04-27T11:31:29.729959Z",
     "iopub.status.busy": "2021-04-27T11:31:29.729425Z",
     "iopub.status.idle": "2021-04-27T11:31:29.739585Z",
     "shell.execute_reply": "2021-04-27T11:31:29.738022Z",
     "shell.execute_reply.started": "2021-04-27T11:31:29.729899Z"
    }
   },
   "outputs": [
    {
     "data": {
      "text/plain": [
       "(46, 63)"
      ]
     },
     "execution_count": 12,
     "metadata": {},
     "output_type": "execute_result"
    }
   ],
   "source": [
    "p =np.mean(p, axis = 2) ; p.shape"
   ]
  },
  {
   "cell_type": "code",
   "execution_count": 13,
   "id": "bottom-composer",
   "metadata": {
    "execution": {
     "iopub.execute_input": "2021-04-27T11:31:38.185760Z",
     "iopub.status.busy": "2021-04-27T11:31:38.185253Z",
     "iopub.status.idle": "2021-04-27T11:31:38.191754Z",
     "shell.execute_reply": "2021-04-27T11:31:38.191125Z",
     "shell.execute_reply.started": "2021-04-27T11:31:38.185702Z"
    }
   },
   "outputs": [
    {
     "data": {
      "text/plain": [
       "(46,)"
      ]
     },
     "execution_count": 13,
     "metadata": {},
     "output_type": "execute_result"
    }
   ],
   "source": [
    "p2 =np.mean(p,axis=1);p2.shape"
   ]
  },
  {
   "cell_type": "code",
   "execution_count": 35,
   "id": "forty-travel",
   "metadata": {
    "execution": {
     "iopub.execute_input": "2021-04-27T11:11:37.078157Z",
     "iopub.status.busy": "2021-04-27T11:11:37.077341Z",
     "iopub.status.idle": "2021-04-27T11:11:37.092441Z",
     "shell.execute_reply": "2021-04-27T11:11:37.090614Z",
     "shell.execute_reply.started": "2021-04-27T11:11:37.078056Z"
    }
   },
   "outputs": [
    {
     "data": {
      "text/plain": [
       "array([0.51211   , 0.51778028, 0.51994729, 0.49896741, 0.51976446,\n",
       "       0.47434639, 0.49056609, 0.47879781, 0.50275292, 0.51395129,\n",
       "       0.52772055, 0.48926052, 0.47641477, 0.48148033, 0.4882823 ,\n",
       "       0.51993292, 0.50196918, 0.53695466, 0.50357189, 0.51764803,\n",
       "       0.5212499 , 0.49777588, 0.47619465, 0.51537897, 0.50883628,\n",
       "       0.49127935, 0.53006325, 0.49331301, 0.47904558, 0.5246915 ,\n",
       "       0.51611054, 0.51127026, 0.45400594, 0.51509974, 0.51725457,\n",
       "       0.52178223, 0.49321104, 0.5340558 , 0.50813852, 0.48207701,\n",
       "       0.50686967, 0.49073306, 0.46734796, 0.5036516 , 0.54696196,\n",
       "       0.54227736])"
      ]
     },
     "execution_count": 35,
     "metadata": {},
     "output_type": "execute_result"
    }
   ],
   "source": [
    "p2"
   ]
  },
  {
   "cell_type": "code",
   "execution_count": 14,
   "id": "detected-flour",
   "metadata": {
    "execution": {
     "iopub.execute_input": "2021-04-27T12:09:33.535783Z",
     "iopub.status.busy": "2021-04-27T12:09:33.535269Z",
     "iopub.status.idle": "2021-04-27T12:09:35.437521Z",
     "shell.execute_reply": "2021-04-27T12:09:35.437203Z",
     "shell.execute_reply.started": "2021-04-27T12:09:33.535723Z"
    }
   },
   "outputs": [],
   "source": [
    "import torch"
   ]
  },
  {
   "cell_type": "code",
   "execution_count": 17,
   "id": "excited-picture",
   "metadata": {
    "execution": {
     "iopub.execute_input": "2021-04-27T12:09:49.859658Z",
     "iopub.status.busy": "2021-04-27T12:09:49.859123Z",
     "iopub.status.idle": "2021-04-27T12:09:49.869927Z",
     "shell.execute_reply": "2021-04-27T12:09:49.868415Z",
     "shell.execute_reply.started": "2021-04-27T12:09:49.859594Z"
    }
   },
   "outputs": [
    {
     "data": {
      "text/plain": [
       "torch.Size([46, 63, 3])"
      ]
     },
     "execution_count": 17,
     "metadata": {},
     "output_type": "execute_result"
    }
   ],
   "source": [
    "p = torch.rand(46, 63, 3); p.shape"
   ]
  },
  {
   "cell_type": "code",
   "execution_count": 19,
   "id": "retired-giving",
   "metadata": {
    "execution": {
     "iopub.execute_input": "2021-04-27T12:09:59.535180Z",
     "iopub.status.busy": "2021-04-27T12:09:59.534634Z",
     "iopub.status.idle": "2021-04-27T12:09:59.544827Z",
     "shell.execute_reply": "2021-04-27T12:09:59.543182Z",
     "shell.execute_reply.started": "2021-04-27T12:09:59.535115Z"
    }
   },
   "outputs": [
    {
     "data": {
      "text/plain": [
       "torch.Size([8694])"
      ]
     },
     "execution_count": 19,
     "metadata": {},
     "output_type": "execute_result"
    }
   ],
   "source": [
    "p.flatten().shape"
   ]
  },
  {
   "cell_type": "code",
   "execution_count": null,
   "id": "multiple-novelty",
   "metadata": {},
   "outputs": [],
   "source": []
  },
  {
   "cell_type": "code",
   "execution_count": null,
   "id": "blond-turner",
   "metadata": {},
   "outputs": [],
   "source": []
  }
 ],
 "metadata": {
  "kernelspec": {
   "display_name": "Python 3",
   "language": "python",
   "name": "python3"
  },
  "language_info": {
   "codemirror_mode": {
    "name": "ipython",
    "version": 3
   },
   "file_extension": ".py",
   "mimetype": "text/x-python",
   "name": "python",
   "nbconvert_exporter": "python",
   "pygments_lexer": "ipython3",
   "version": "3.9.1"
  }
 },
 "nbformat": 4,
 "nbformat_minor": 5
}
