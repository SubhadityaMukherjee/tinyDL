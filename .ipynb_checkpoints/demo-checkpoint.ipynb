{
 "cells": [
  {
   "cell_type": "code",
   "execution_count": 1,
   "id": "desperate-investor",
   "metadata": {
    "execution": {
     "iopub.execute_input": "2021-04-23T17:46:22.739967Z",
     "iopub.status.busy": "2021-04-23T17:46:22.739828Z",
     "iopub.status.idle": "2021-04-23T17:46:23.896558Z",
     "shell.execute_reply": "2021-04-23T17:46:23.895024Z",
     "shell.execute_reply.started": "2021-04-23T17:46:22.739927Z"
    },
    "lines_to_next_cell": 1
   },
   "outputs": [],
   "source": [
    "# Importing the libraries\n",
    "import time\n",
    "from tinydl.layers import *\n",
    "from tinydl.model import Model\n",
    "from tinydl.data import *\n",
    "from tinydl.trainer import *\n",
    "from tinydl.augmentation import *"
   ]
  },
  {
   "cell_type": "code",
   "execution_count": 2,
   "id": "honest-atmosphere",
   "metadata": {
    "execution": {
     "iopub.execute_input": "2021-04-23T17:46:23.899539Z",
     "iopub.status.busy": "2021-04-23T17:46:23.899094Z",
     "iopub.status.idle": "2021-04-23T17:46:23.919025Z",
     "shell.execute_reply": "2021-04-23T17:46:23.918452Z",
     "shell.execute_reply.started": "2021-04-23T17:46:23.899488Z"
    }
   },
   "outputs": [],
   "source": [
    "import numpy as np\n",
    "from pathlib import Path\n",
    "import cv2\n",
    "import os\n",
    "import pandas as pd"
   ]
  },
  {
   "cell_type": "code",
   "execution_count": 3,
   "id": "superb-washington",
   "metadata": {
    "execution": {
     "iopub.execute_input": "2021-04-23T17:46:23.920060Z",
     "iopub.status.busy": "2021-04-23T17:46:23.919904Z",
     "iopub.status.idle": "2021-04-23T17:46:23.927259Z",
     "shell.execute_reply": "2021-04-23T17:46:23.926811Z",
     "shell.execute_reply.started": "2021-04-23T17:46:23.920040Z"
    }
   },
   "outputs": [],
   "source": [
    "class ImageFolderClassification:\n",
    "    \"\"\"\n",
    "    Directory type:\n",
    "    - class1\n",
    "        - img1\n",
    "        - img2\n",
    "        - ....\n",
    "    \n",
    "    - class2\n",
    "        - img1\n",
    "        - img2\n",
    "        - ....\n",
    "    \"\"\"\n",
    "    def __init__(\n",
    "        self,\n",
    "        fpath,\n",
    "        max_entries=None,\n",
    "        train_pct=0.8,\n",
    "        image_shape = (64, 64)\n",
    "    ):\n",
    "        self.fpath = Path(fpath)\n",
    "        self.train_pct = train_pct\n",
    "        self.max_rows = max_entries\n",
    "        self.label_dict = {}\n",
    "        self.image_shape = image_shape\n",
    "        self.aug = [\n",
    "            Normalize\n",
    "        ]\n",
    "    \n",
    "    def labelFromMap(self, x):\n",
    "        return self.label_dict[x.parent.name]\n",
    "    \n",
    "    def loadAndAugment(self, X):\n",
    "        X_images = [] \n",
    "        for im in X:\n",
    "            X_images.append(cv2.resize(cv2.imread(str(im)), self.image_shape))\n",
    "        X_images = np.array(X_images)\n",
    "                \n",
    "        X_images = augment(X_images,\n",
    "                        self.image_shape,\n",
    "                        self.aug)\n",
    "        return X_images\n",
    "\n",
    "    def read_data(self):\n",
    "        print(\"Loading data\")\n",
    "        classes = [x for x in self.fpath.glob(\"*\")]\n",
    "        self.label_dict = {classes[x].name:x for x in range(len(classes))}\n",
    "        print(f\"\\nLabels : {self.label_dict}\")\n",
    "        all_files = pd.DataFrame([x for x in self.fpath.glob(\"*/*.png\")], columns= [\"path\"])\n",
    "        all_files['label'] = all_files[\"path\"].apply(self.labelFromMap)\n",
    "        \n",
    "        X, y = all_files[\"path\"], all_files[\"label\"]\n",
    "        trainX = X.sample(frac=self.train_pct)\n",
    "        trainy = y.sample(frac=self.train_pct)\n",
    "        testX = self.loadAndAugment(X.drop(trainX.index))\n",
    "        trainX = self.loadAndAugment(trainX)\n",
    "        testy = y.drop(trainy.index)\n",
    "        \n",
    "        print(\"Done loading data\")\n",
    "        return (trainX,trainy.to_numpy(dtype=\"float64\"),testX,testy.to_numpy(dtype=\"float64\"),)"
   ]
  },
  {
   "cell_type": "code",
   "execution_count": null,
   "id": "exciting-minutes",
   "metadata": {},
   "outputs": [],
   "source": []
  },
  {
   "cell_type": "code",
   "execution_count": 4,
   "id": "partial-irish",
   "metadata": {
    "execution": {
     "iopub.execute_input": "2021-04-23T17:46:23.928083Z",
     "iopub.status.busy": "2021-04-23T17:46:23.927944Z",
     "iopub.status.idle": "2021-04-23T17:46:23.930133Z",
     "shell.execute_reply": "2021-04-23T17:46:23.929720Z",
     "shell.execute_reply.started": "2021-04-23T17:46:23.928066Z"
    }
   },
   "outputs": [],
   "source": [
    "# Loading an external dataframe using helpers\n",
    "\n",
    "# fpath = \"/media/hdd/Datasets/heart.csv\"\n",
    "\n",
    "# trainX, trainy, testX, testy = DataFrameClassification(\n",
    "#     fpath, label_col=\"target\", max_rows=100\n",
    "# ).read_data()"
   ]
  },
  {
   "cell_type": "code",
   "execution_count": 5,
   "id": "turned-kelly",
   "metadata": {
    "execution": {
     "iopub.execute_input": "2021-04-23T17:46:23.930944Z",
     "iopub.status.busy": "2021-04-23T17:46:23.930799Z",
     "iopub.status.idle": "2021-04-23T17:46:24.411096Z",
     "shell.execute_reply": "2021-04-23T17:46:24.410659Z",
     "shell.execute_reply.started": "2021-04-23T17:46:23.930927Z"
    }
   },
   "outputs": [
    {
     "name": "stdout",
     "output_type": "stream",
     "text": [
      "Loading data\n",
      "\n",
      "Labels : {'gray': 0, 'original': 1}\n",
      "Done loading data\n"
     ]
    }
   ],
   "source": [
    "fpath = \"/media/hdd/Datasets/bw2color_subset\"\n",
    "\n",
    "trainX, trainy, testX, testy = ImageFolderClassification(fpath=fpath).read_data()"
   ]
  },
  {
   "cell_type": "code",
   "execution_count": 6,
   "id": "offensive-asian",
   "metadata": {
    "execution": {
     "iopub.execute_input": "2021-04-23T17:46:24.412149Z",
     "iopub.status.busy": "2021-04-23T17:46:24.411942Z",
     "iopub.status.idle": "2021-04-23T17:46:24.426023Z",
     "shell.execute_reply": "2021-04-23T17:46:24.425535Z",
     "shell.execute_reply.started": "2021-04-23T17:46:24.412128Z"
    }
   },
   "outputs": [
    {
     "name": "stdout",
     "output_type": "stream",
     "text": [
      "Model summary\n",
      "------\n",
      "0 fc1: 13 -> 16\n",
      "1 fc2: 16 -> 32\n",
      "2 fc2: 32 -> 16\n",
      "3 fc3: 16 -> 1\n",
      "------\n",
      "\n",
      "\n"
     ]
    }
   ],
   "source": [
    "# Defining the Network\n",
    "class Net(Model):\n",
    "    def __init__(self, numClasses):\n",
    "        super().__init__()\n",
    "        self.fc1 = Linear(13, 16, activation=\"relu\", name=\"fc1\")\n",
    "        self.fc2 = Linear(16, 32, activation=\"relu\", name=\"fc2\")\n",
    "        self.fc3 = Linear(32, 16, activation=\"relu\", name=\"fc2\")\n",
    "        self.fc4 = Linear(16, numClasses, activation=\"sigmoid\", name=\"fc3\", init=\"he\")\n",
    "\n",
    "    def forward(self, x):\n",
    "        x = self.fc1(x)\n",
    "#         print(np.array(x))\n",
    "#         conv2d(x, (15,15))\n",
    "        x = self.fc2(x)\n",
    "        x = self.fc3(x)\n",
    "        x = self.fc4(x)\n",
    "        return x\n",
    "\n",
    "\n",
    "numClasses = 1\n",
    "model = Net(numClasses=numClasses)\n",
    "model.summary()"
   ]
  },
  {
   "cell_type": "code",
   "execution_count": 7,
   "id": "forward-spectrum",
   "metadata": {
    "execution": {
     "iopub.execute_input": "2021-04-23T17:46:24.427951Z",
     "iopub.status.busy": "2021-04-23T17:46:24.427707Z",
     "iopub.status.idle": "2021-04-23T17:46:25.646170Z",
     "shell.execute_reply": "2021-04-23T17:46:25.645575Z",
     "shell.execute_reply.started": "2021-04-23T17:46:24.427929Z"
    }
   },
   "outputs": [
    {
     "name": "stdout",
     "output_type": "stream",
     "text": [
      " |--------------------------------------------------| 0.0% |  \r"
     ]
    },
    {
     "ename": "TypeError",
     "evalue": "only size-1 arrays can be converted to Python scalars",
     "output_type": "error",
     "traceback": [
      "\u001b[0;31m---------------------------------------------------------------------------\u001b[0m",
      "\u001b[0;31mTypeError\u001b[0m                                 Traceback (most recent call last)",
      "\u001b[0;32m<ipython-input-7-35430ab22704>\u001b[0m in \u001b[0;36m<module>\u001b[0;34m\u001b[0m\n\u001b[1;32m      1\u001b[0m \u001b[0;31m# Training loop\u001b[0m\u001b[0;34m\u001b[0m\u001b[0;34m\u001b[0m\u001b[0;34m\u001b[0m\u001b[0m\n\u001b[0;32m----> 2\u001b[0;31m \u001b[0mtrain\u001b[0m\u001b[0;34m(\u001b[0m\u001b[0mtrainX\u001b[0m\u001b[0;34m,\u001b[0m \u001b[0mtrainy\u001b[0m\u001b[0;34m,\u001b[0m \u001b[0mmodel\u001b[0m\u001b[0;34m)\u001b[0m\u001b[0;34m\u001b[0m\u001b[0;34m\u001b[0m\u001b[0m\n\u001b[0m",
      "\u001b[0;32m/media/hdd/github/tinyDL/tinydl/trainer.py\u001b[0m in \u001b[0;36mtrain\u001b[0;34m(X, y, model)\u001b[0m\n\u001b[1;32m    141\u001b[0m \u001b[0;34m\u001b[0m\u001b[0m\n\u001b[1;32m    142\u001b[0m         \u001b[0;31m# accuracy\u001b[0m\u001b[0;34m\u001b[0m\u001b[0;34m\u001b[0m\u001b[0;34m\u001b[0m\u001b[0m\n\u001b[0;32m--> 143\u001b[0;31m         \u001b[0mprint\u001b[0m\u001b[0;34m(\u001b[0m\u001b[0;34m\"Train Accuracy \"\u001b[0m\u001b[0;34m,\u001b[0m \u001b[0mgetattr\u001b[0m\u001b[0;34m(\u001b[0m\u001b[0mtd\u001b[0m\u001b[0;34m.\u001b[0m\u001b[0mloss\u001b[0m\u001b[0;34m,\u001b[0m \u001b[0maccuracy_metric\u001b[0m\u001b[0;34m)\u001b[0m\u001b[0;34m(\u001b[0m\u001b[0my_pred_b\u001b[0m\u001b[0;34m,\u001b[0m \u001b[0myb\u001b[0m\u001b[0;34m)\u001b[0m\u001b[0;34m)\u001b[0m\u001b[0;34m\u001b[0m\u001b[0;34m\u001b[0m\u001b[0m\n\u001b[0m\u001b[1;32m    144\u001b[0m         \u001b[0;31m# ADD CHECK FOR EMPTY FILE\u001b[0m\u001b[0;34m\u001b[0m\u001b[0;34m\u001b[0m\u001b[0;34m\u001b[0m\u001b[0m\n\u001b[1;32m    145\u001b[0m         \u001b[0;32mif\u001b[0m \u001b[0;34m(\u001b[0m\u001b[0msteps\u001b[0m \u001b[0;34m==\u001b[0m \u001b[0;36m0\u001b[0m\u001b[0;34m)\u001b[0m \u001b[0;32mand\u001b[0m \u001b[0;34m(\u001b[0m\u001b[0mresumetrain\u001b[0m \u001b[0;34m==\u001b[0m \u001b[0;32mTrue\u001b[0m\u001b[0;34m)\u001b[0m \u001b[0;32mand\u001b[0m \u001b[0;34m(\u001b[0m\u001b[0mmodelpath\u001b[0m \u001b[0;34m!=\u001b[0m \u001b[0;32mNone\u001b[0m\u001b[0;34m)\u001b[0m\u001b[0;34m:\u001b[0m\u001b[0;34m\u001b[0m\u001b[0;34m\u001b[0m\u001b[0m\n",
      "\u001b[0;32m/media/hdd/github/tinyDL/tinydl/loss.py\u001b[0m in \u001b[0;36maccuracy\u001b[0;34m(yhat, y)\u001b[0m\n\u001b[1;32m     62\u001b[0m     \u001b[0mReturns\u001b[0m \u001b[0mthe\u001b[0m \u001b[0maccuracy\u001b[0m\u001b[0;34m\u001b[0m\u001b[0;34m\u001b[0m\u001b[0m\n\u001b[1;32m     63\u001b[0m     \"\"\"\n\u001b[0;32m---> 64\u001b[0;31m     \u001b[0myhat\u001b[0m \u001b[0;34m=\u001b[0m \u001b[0mnp\u001b[0m\u001b[0;34m.\u001b[0m\u001b[0marray\u001b[0m\u001b[0;34m(\u001b[0m\u001b[0;34m[\u001b[0m\u001b[0mfloat\u001b[0m\u001b[0;34m(\u001b[0m\u001b[0mx\u001b[0m\u001b[0;34m.\u001b[0m\u001b[0mdata\u001b[0m\u001b[0;34m)\u001b[0m \u001b[0;32mfor\u001b[0m \u001b[0mx\u001b[0m \u001b[0;32min\u001b[0m \u001b[0myhat\u001b[0m\u001b[0;34m]\u001b[0m\u001b[0;34m)\u001b[0m\u001b[0;34m\u001b[0m\u001b[0;34m\u001b[0m\u001b[0m\n\u001b[0m\u001b[1;32m     65\u001b[0m     \u001b[0my\u001b[0m \u001b[0;34m=\u001b[0m \u001b[0mnp\u001b[0m\u001b[0;34m.\u001b[0m\u001b[0marray\u001b[0m\u001b[0;34m(\u001b[0m\u001b[0;34m[\u001b[0m\u001b[0mfloat\u001b[0m\u001b[0;34m(\u001b[0m\u001b[0mx\u001b[0m\u001b[0;34m.\u001b[0m\u001b[0mdata\u001b[0m\u001b[0;34m)\u001b[0m \u001b[0;32mfor\u001b[0m \u001b[0mx\u001b[0m \u001b[0;32min\u001b[0m \u001b[0my\u001b[0m\u001b[0;34m]\u001b[0m\u001b[0;34m)\u001b[0m\u001b[0;34m\u001b[0m\u001b[0;34m\u001b[0m\u001b[0m\n\u001b[1;32m     66\u001b[0m     \u001b[0my_hat_\u001b[0m \u001b[0;34m=\u001b[0m \u001b[0midentifyClassFromProb\u001b[0m\u001b[0;34m(\u001b[0m\u001b[0myhat\u001b[0m\u001b[0;34m)\u001b[0m\u001b[0;34m\u001b[0m\u001b[0;34m\u001b[0m\u001b[0m\n",
      "\u001b[0;32m/media/hdd/github/tinyDL/tinydl/loss.py\u001b[0m in \u001b[0;36m<listcomp>\u001b[0;34m(.0)\u001b[0m\n\u001b[1;32m     62\u001b[0m     \u001b[0mReturns\u001b[0m \u001b[0mthe\u001b[0m \u001b[0maccuracy\u001b[0m\u001b[0;34m\u001b[0m\u001b[0;34m\u001b[0m\u001b[0m\n\u001b[1;32m     63\u001b[0m     \"\"\"\n\u001b[0;32m---> 64\u001b[0;31m     \u001b[0myhat\u001b[0m \u001b[0;34m=\u001b[0m \u001b[0mnp\u001b[0m\u001b[0;34m.\u001b[0m\u001b[0marray\u001b[0m\u001b[0;34m(\u001b[0m\u001b[0;34m[\u001b[0m\u001b[0mfloat\u001b[0m\u001b[0;34m(\u001b[0m\u001b[0mx\u001b[0m\u001b[0;34m.\u001b[0m\u001b[0mdata\u001b[0m\u001b[0;34m)\u001b[0m \u001b[0;32mfor\u001b[0m \u001b[0mx\u001b[0m \u001b[0;32min\u001b[0m \u001b[0myhat\u001b[0m\u001b[0;34m]\u001b[0m\u001b[0;34m)\u001b[0m\u001b[0;34m\u001b[0m\u001b[0;34m\u001b[0m\u001b[0m\n\u001b[0m\u001b[1;32m     65\u001b[0m     \u001b[0my\u001b[0m \u001b[0;34m=\u001b[0m \u001b[0mnp\u001b[0m\u001b[0;34m.\u001b[0m\u001b[0marray\u001b[0m\u001b[0;34m(\u001b[0m\u001b[0;34m[\u001b[0m\u001b[0mfloat\u001b[0m\u001b[0;34m(\u001b[0m\u001b[0mx\u001b[0m\u001b[0;34m.\u001b[0m\u001b[0mdata\u001b[0m\u001b[0;34m)\u001b[0m \u001b[0;32mfor\u001b[0m \u001b[0mx\u001b[0m \u001b[0;32min\u001b[0m \u001b[0my\u001b[0m\u001b[0;34m]\u001b[0m\u001b[0;34m)\u001b[0m\u001b[0;34m\u001b[0m\u001b[0;34m\u001b[0m\u001b[0m\n\u001b[1;32m     66\u001b[0m     \u001b[0my_hat_\u001b[0m \u001b[0;34m=\u001b[0m \u001b[0midentifyClassFromProb\u001b[0m\u001b[0;34m(\u001b[0m\u001b[0myhat\u001b[0m\u001b[0;34m)\u001b[0m\u001b[0;34m\u001b[0m\u001b[0;34m\u001b[0m\u001b[0m\n",
      "\u001b[0;31mTypeError\u001b[0m: only size-1 arrays can be converted to Python scalars"
     ]
    }
   ],
   "source": [
    "# Training loop\n",
    "train(trainX, trainy, model)"
   ]
  },
  {
   "cell_type": "code",
   "execution_count": null,
   "id": "appointed-rachel",
   "metadata": {},
   "outputs": [],
   "source": []
  }
 ],
 "metadata": {
  "jupytext": {
   "cell_metadata_filter": "-all",
   "main_language": "python",
   "notebook_metadata_filter": "-all"
  },
  "kernelspec": {
   "display_name": "Python 3",
   "language": "python",
   "name": "python3"
  },
  "language_info": {
   "codemirror_mode": {
    "name": "ipython",
    "version": 3
   },
   "file_extension": ".py",
   "mimetype": "text/x-python",
   "name": "python",
   "nbconvert_exporter": "python",
   "pygments_lexer": "ipython3",
   "version": "3.9.1"
  }
 },
 "nbformat": 4,
 "nbformat_minor": 5
}
