{
 "cells": [
  {
   "cell_type": "code",
   "execution_count": null,
   "id": "selected-harvard",
   "metadata": {},
   "outputs": [],
   "source": [
    "# # Importing the libraries"
   ]
  },
  {
   "cell_type": "code",
   "execution_count": null,
   "id": "regulated-scholar",
   "metadata": {},
   "outputs": [],
   "source": [
    "from sklearn import datasets\n",
    "import numpy as np\n",
    "import time\n",
    "import tinydl as dp\n",
    "from tinydl.layers import *\n",
    "from tinydl.model import Model\n",
    "from tinydl.trainer import *\n",
    "\n",
    "init_time = time.time()\n",
    "\n",
    "\n",
    "# # Defining the Network\n",
    "\n",
    "# +\n",
    "class Net(Model):\n",
    "    def __init__(self, numClasses):\n",
    "        super().__init__()\n",
    "        self.fc1 = Linear(4, 16, activation=\"relu\", name=\"fc1\")\n",
    "        self.fc2 = Linear(16, 32, activation=\"relu\", name=\"fc2\")\n",
    "        self.fc3 = Linear(32, 16, activation=\"relu\", name=\"fc2\")\n",
    "        self.fc4 = Linear(16, numClasses, activation=\"sigmoid\", name=\"fc3\", init=\"he\")\n",
    "\n",
    "    def forward(self, x):\n",
    "        x = self.fc1(x)\n",
    "        x = self.fc2(x)\n",
    "        x = self.fc3(x)\n",
    "        x = self.fc4(x)\n",
    "        return x\n",
    "\n",
    "\n",
    "numClasses = 1\n",
    "model = Net(numClasses=numClasses)\n",
    "model.summary()\n",
    "# -\n",
    "\n",
    "# # Loading the data\n",
    "\n",
    "train_X, train_y = datasets.load_iris(return_X_y=True)\n",
    "X, y = np.asarray(train_X[:100]), np.asarray(train_y[:100])\n",
    "yi = np.argwhere(y <= 1)\n",
    "y = np.reshape(y[yi], (-1))\n",
    "X = np.reshape(X[yi], (y.shape[0], -1))\n",
    "X = (X - X.min()) / (X.max() - X.min())\n",
    "X, y = np.asarray(X, np.float32), np.asarray(y, np.float32)\n",
    "\n",
    "\n",
    "# # Training loop\n",
    "\n",
    "train(X, y, model)\n",
    "print(f\"Took {(time.time()-init_time)/60} minutes to run\")"
   ]
  }
 ],
 "metadata": {
  "jupytext": {
   "cell_metadata_filter": "-all",
   "main_language": "python",
   "notebook_metadata_filter": "-all"
  }
 },
 "nbformat": 4,
 "nbformat_minor": 5
}
