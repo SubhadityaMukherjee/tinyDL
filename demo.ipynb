{
 "cells": [
  {
   "cell_type": "code",
   "execution_count": null,
   "id": "political-payroll",
   "metadata": {
    "lines_to_next_cell": 1
   },
   "outputs": [],
   "source": [
    "# Importing the libraries\n",
    "import time\n",
    "from tinydl.layers import *\n",
    "from tinydl.model import Model\n",
    "from tinydl.data import *\n",
    "from tinydl.trainer import *\n",
    "from tinydl.augmentation import *\n",
    "\n",
    "# temp\n",
    "import tinydl as dp\n",
    "import numpy as np\n",
    "\n",
    "init_time = time.time()"
   ]
  },
  {
   "cell_type": "code",
   "execution_count": null,
   "id": "sticky-representative",
   "metadata": {},
   "outputs": [],
   "source": [
    "# Defining the Network"
   ]
  },
  {
   "cell_type": "code",
   "execution_count": null,
   "id": "massive-herald",
   "metadata": {},
   "outputs": [],
   "source": [
    "# Only linear model\n",
    "#  class Net(Model):\n",
    "#      def __init__(self, numClasses):\n",
    "#          super().__init__()\n",
    "#          self.fc1 = Linear(13, 16, activation=\"relu\", name=\"fc1\")\n",
    "#          self.fc2 = Linear(16, 32, activation=\"relu\", name=\"fc2\")\n",
    "#          self.fc3 = Linear(32, 16, activation=\"relu\", name=\"fc2\")\n",
    "#          self.fc4 = Linear(16, numClasses, activation=\"sigmoid\",\n",
    "#                            name=\"fc3\", init=\"he\")\n",
    "#\n",
    "#      def forward(self, x):\n",
    "#          x = self.fc1(x)\n",
    "#          x = self.fc2(x)\n",
    "#          x = self.fc3(x)\n",
    "#          x = self.fc4(x)\n",
    "#          return x\n",
    "#"
   ]
  },
  {
   "cell_type": "code",
   "execution_count": null,
   "id": "compressed-sphere",
   "metadata": {
    "title": "Linear model with pool and flatten"
   },
   "outputs": [],
   "source": [
    "class Net(Model):\n",
    "    def __init__(self, numClasses):\n",
    "        super().__init__()\n",
    "        self.fc1 = Linear(13, 64, activation=\"relu\", name=\"fc1\")\n",
    "        self.fc4 = Linear(840, numClasses, activation=\"sigmoid\", name=\"fc3\", init=\"he\")\n",
    "\n",
    "    def forward(self, x):\n",
    "        x = self.fc1(x)\n",
    "        x = avgpool(x, 3, 3)\n",
    "        x = flatten(x)\n",
    "        x = self.fc4(x)\n",
    "        return x\n",
    "\n",
    "\n",
    "numClasses = 1\n",
    "model = Net(numClasses=numClasses)\n",
    "model.summary()"
   ]
  },
  {
   "cell_type": "code",
   "execution_count": null,
   "id": "third-praise",
   "metadata": {},
   "outputs": [],
   "source": [
    "# Loading the data manually from sklearn\n",
    "#  from sklearn import datasets\n",
    "#  train_X, train_y = datasets.load_iris(return_X_y=True)\n",
    "#  X, y = np.asarray(train_X[:100]), np.asarray(train_y[:100])\n",
    "#  yi = np.argwhere(y <= 1)\n",
    "#  y = np.reshape(y[yi], (-1))\n",
    "#  X = np.reshape(X[yi], (y.shape[0], -1))\n",
    "#  X = (X - X.min()) / (X.max() - X.min())\n",
    "#  X, y = np.asarray(X, np.float32), np.asarray(y, np.float32)"
   ]
  },
  {
   "cell_type": "code",
   "execution_count": null,
   "id": "entitled-parade",
   "metadata": {},
   "outputs": [],
   "source": [
    "# Loading an external dataframe using helpers"
   ]
  },
  {
   "cell_type": "code",
   "execution_count": null,
   "id": "exterior-director",
   "metadata": {
    "lines_to_next_cell": 0
   },
   "outputs": [],
   "source": [
    "#  fpath = \"/media/hdd/Datasets/heart.csv\"\n",
    "#\n",
    "#  trainX, trainy, testX, testy = DataFrameClassification(\n",
    "#      fpath, label_col=\"target\", max_rows=100\n",
    "#  ).read_data()\n",
    "#"
   ]
  },
  {
   "cell_type": "code",
   "execution_count": null,
   "id": "numerous-filename",
   "metadata": {
    "lines_to_next_cell": 0
   },
   "outputs": [],
   "source": [
    "# Loading an image folder\n",
    "fpath = \"/media/hdd/Datasets/bw2color_subset\"\n",
    "\n",
    "trainX, trainy, testX, testy = ImageFolderClassification(\n",
    "    fpath=fpath, aug=[Normalize]\n",
    ").read_data()\n",
    "#"
   ]
  },
  {
   "cell_type": "code",
   "execution_count": null,
   "id": "played-relief",
   "metadata": {},
   "outputs": [],
   "source": [
    "# Training loop\n",
    "train(trainX, trainy, model)"
   ]
  },
  {
   "cell_type": "code",
   "execution_count": null,
   "id": "genetic-summit",
   "metadata": {},
   "outputs": [],
   "source": [
    "print(f\"Took {(time.time()-init_time)/60} minutes to run\")"
   ]
  }
 ],
 "metadata": {
  "jupytext": {
   "cell_metadata_filter": "title,-all",
   "main_language": "python",
   "notebook_metadata_filter": "-all"
  }
 },
 "nbformat": 4,
 "nbformat_minor": 5
}
