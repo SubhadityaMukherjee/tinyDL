{
 "cells": [
  {
   "cell_type": "code",
   "execution_count": null,
   "id": "pharmaceutical-interstate",
   "metadata": {
    "lines_to_next_cell": 1
   },
   "outputs": [],
   "source": [
    "# Importing the libraries\n",
    "import time\n",
    "from tinydl.layers import *\n",
    "from tinydl.model import Model\n",
    "from tinydl.data import *\n",
    "from tinydl.trainer import *\n",
    "\n",
    "init_time = time.time()"
   ]
  },
  {
   "cell_type": "code",
   "execution_count": null,
   "id": "incomplete-seventh",
   "metadata": {},
   "outputs": [],
   "source": [
    "# Defining the Network\n",
    "class Net(Model):\n",
    "    def __init__(self, numClasses):\n",
    "        super().__init__()\n",
    "        self.fc1 = Linear(13, 16, activation=\"relu\", name=\"fc1\")\n",
    "        self.fc2 = Linear(16, 32, activation=\"relu\", name=\"fc2\")\n",
    "        self.fc3 = Linear(32, 16, activation=\"relu\", name=\"fc2\")\n",
    "        self.fc4 = Linear(16, numClasses, activation=\"sigmoid\", name=\"fc3\", init=\"he\")\n",
    "\n",
    "    def forward(self, x):\n",
    "        x = self.fc1(x)\n",
    "        x = self.fc2(x)\n",
    "        x = self.fc3(x)\n",
    "        x = self.fc4(x)\n",
    "        return x\n",
    "\n",
    "\n",
    "numClasses = 1\n",
    "model = Net(numClasses=numClasses)\n",
    "model.summary()"
   ]
  },
  {
   "cell_type": "code",
   "execution_count": null,
   "id": "double-reverse",
   "metadata": {},
   "outputs": [],
   "source": [
    "# Loading the data manually from sklearn\n",
    "#  from sklearn import datasets\n",
    "#  train_X, train_y = datasets.load_iris(return_X_y=True)\n",
    "#  X, y = np.asarray(train_X[:100]), np.asarray(train_y[:100])\n",
    "#  yi = np.argwhere(y <= 1)\n",
    "#  y = np.reshape(y[yi], (-1))\n",
    "#  X = np.reshape(X[yi], (y.shape[0], -1))\n",
    "#  X = (X - X.min()) / (X.max() - X.min())\n",
    "#  X, y = np.asarray(X, np.float32), np.asarray(y, np.float32)"
   ]
  },
  {
   "cell_type": "code",
   "execution_count": null,
   "id": "national-consequence",
   "metadata": {},
   "outputs": [],
   "source": [
    "# Loading an external dataframe using helpers\n",
    "\n",
    "fpath = \"/media/hdd/Datasets/heart.csv\"\n",
    "\n",
    "trainX, trainy, testX, testy = DataFrameClassification(\n",
    "    fpath, label_col=\"target\", max_rows=100\n",
    ").read_data()"
   ]
  },
  {
   "cell_type": "code",
   "execution_count": null,
   "id": "unknown-wheat",
   "metadata": {},
   "outputs": [],
   "source": [
    "# Training loop\n",
    "train(trainX, trainy, model)"
   ]
  },
  {
   "cell_type": "code",
   "execution_count": null,
   "id": "seasonal-rubber",
   "metadata": {},
   "outputs": [],
   "source": [
    "print(f\"Took {(time.time()-init_time)/60} minutes to run\")"
   ]
  }
 ],
 "metadata": {
  "jupytext": {
   "cell_metadata_filter": "-all",
   "main_language": "python",
   "notebook_metadata_filter": "-all"
  }
 },
 "nbformat": 4,
 "nbformat_minor": 5
}
